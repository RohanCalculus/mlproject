{
 "cells": [
  {
   "attachments": {},
   "cell_type": "markdown",
   "metadata": {},
   "source": [
    "## Model Training"
   ]
  },
  {
   "attachments": {},
   "cell_type": "markdown",
   "metadata": {},
   "source": [
    "### Import Data and Required Packages"
   ]
  },
  {
   "cell_type": "code",
   "execution_count": 79,
   "metadata": {},
   "outputs": [],
   "source": [
    "# Basic Imports\n",
    "import numpy as np\n",
    "import pandas as pd\n",
    "import seaborn as sns\n",
    "import matplotlib.pyplot as plt\n",
    "\n",
    "# Model Imports\n",
    "from sklearn.metrics import mean_squared_error, r2_score, mean_absolute_error\n",
    "from sklearn.neighbors import KNeighborsRegressor\n",
    "from sklearn.tree import DecisionTreeRegressor\n",
    "from sklearn.ensemble import RandomForestRegressor, AdaBoostRegressor\n",
    "from sklearn.svm import SVR\n",
    "from sklearn.linear_model import LinearRegression, Ridge, Lasso\n",
    "from sklearn.model_selection import RandomizedSearchCV\n",
    "from catboost import CatBoostRegressor\n",
    "from xgboost import XGBRegressor\n",
    "import warnings"
   ]
  },
  {
   "attachments": {},
   "cell_type": "markdown",
   "metadata": {},
   "source": [
    "### Get into the dataset using Pandas DataFrame"
   ]
  },
  {
   "cell_type": "code",
   "execution_count": 80,
   "metadata": {},
   "outputs": [
    {
     "data": {
      "text/html": [
       "<div>\n",
       "<style scoped>\n",
       "    .dataframe tbody tr th:only-of-type {\n",
       "        vertical-align: middle;\n",
       "    }\n",
       "\n",
       "    .dataframe tbody tr th {\n",
       "        vertical-align: top;\n",
       "    }\n",
       "\n",
       "    .dataframe thead th {\n",
       "        text-align: right;\n",
       "    }\n",
       "</style>\n",
       "<table border=\"1\" class=\"dataframe\">\n",
       "  <thead>\n",
       "    <tr style=\"text-align: right;\">\n",
       "      <th></th>\n",
       "      <th>gender</th>\n",
       "      <th>race/ethnicity</th>\n",
       "      <th>parental level of education</th>\n",
       "      <th>lunch</th>\n",
       "      <th>test preparation course</th>\n",
       "      <th>math score</th>\n",
       "      <th>reading score</th>\n",
       "      <th>writing score</th>\n",
       "    </tr>\n",
       "  </thead>\n",
       "  <tbody>\n",
       "    <tr>\n",
       "      <th>0</th>\n",
       "      <td>female</td>\n",
       "      <td>group B</td>\n",
       "      <td>bachelor's degree</td>\n",
       "      <td>standard</td>\n",
       "      <td>none</td>\n",
       "      <td>72</td>\n",
       "      <td>72</td>\n",
       "      <td>74</td>\n",
       "    </tr>\n",
       "    <tr>\n",
       "      <th>1</th>\n",
       "      <td>female</td>\n",
       "      <td>group C</td>\n",
       "      <td>some college</td>\n",
       "      <td>standard</td>\n",
       "      <td>completed</td>\n",
       "      <td>69</td>\n",
       "      <td>90</td>\n",
       "      <td>88</td>\n",
       "    </tr>\n",
       "    <tr>\n",
       "      <th>2</th>\n",
       "      <td>female</td>\n",
       "      <td>group B</td>\n",
       "      <td>master's degree</td>\n",
       "      <td>standard</td>\n",
       "      <td>none</td>\n",
       "      <td>90</td>\n",
       "      <td>95</td>\n",
       "      <td>93</td>\n",
       "    </tr>\n",
       "    <tr>\n",
       "      <th>3</th>\n",
       "      <td>male</td>\n",
       "      <td>group A</td>\n",
       "      <td>associate's degree</td>\n",
       "      <td>free/reduced</td>\n",
       "      <td>none</td>\n",
       "      <td>47</td>\n",
       "      <td>57</td>\n",
       "      <td>44</td>\n",
       "    </tr>\n",
       "    <tr>\n",
       "      <th>4</th>\n",
       "      <td>male</td>\n",
       "      <td>group C</td>\n",
       "      <td>some college</td>\n",
       "      <td>standard</td>\n",
       "      <td>none</td>\n",
       "      <td>76</td>\n",
       "      <td>78</td>\n",
       "      <td>75</td>\n",
       "    </tr>\n",
       "  </tbody>\n",
       "</table>\n",
       "</div>"
      ],
      "text/plain": [
       "   gender race/ethnicity parental level of education         lunch   \n",
       "0  female        group B           bachelor's degree      standard  \\\n",
       "1  female        group C                some college      standard   \n",
       "2  female        group B             master's degree      standard   \n",
       "3    male        group A          associate's degree  free/reduced   \n",
       "4    male        group C                some college      standard   \n",
       "\n",
       "  test preparation course  math score  reading score  writing score  \n",
       "0                    none          72             72             74  \n",
       "1               completed          69             90             88  \n",
       "2                    none          90             95             93  \n",
       "3                    none          47             57             44  \n",
       "4                    none          76             78             75  "
      ]
     },
     "execution_count": 80,
     "metadata": {},
     "output_type": "execute_result"
    }
   ],
   "source": [
    "df = pd.read_csv('data/study.csv')\n",
    "df.head()"
   ]
  },
  {
   "attachments": {},
   "cell_type": "markdown",
   "metadata": {},
   "source": [
    "### Let Math Scores be the Dependent Feature and the remaining as the Independent Features"
   ]
  },
  {
   "cell_type": "code",
   "execution_count": 81,
   "metadata": {},
   "outputs": [],
   "source": [
    "X = df.drop('math score', axis = 1)\n",
    "y = df['math score']"
   ]
  },
  {
   "attachments": {},
   "cell_type": "markdown",
   "metadata": {},
   "source": [
    "### Create Column Transformer with 3 types of Transformers"
   ]
  },
  {
   "cell_type": "code",
   "execution_count": 82,
   "metadata": {},
   "outputs": [],
   "source": [
    "# Get numeric and categorical features\n",
    "num_features = X.select_dtypes(exclude='object').columns\n",
    "cat_features = X.select_dtypes(include='object').columns\n",
    "\n",
    "# Necessary Imports\n",
    "from sklearn.preprocessing import StandardScaler, OneHotEncoder\n",
    "from sklearn.compose import ColumnTransformer  # Used for tranforming the numeric and categorical features\n",
    "\n",
    "# Create the Transformers for numeric and categorical features\n",
    "numeric_transformer = StandardScaler()\n",
    "oh_transformer = OneHotEncoder()\n",
    "\n",
    "# Create pipeline to transform your tabular data - Much powerful way to perform the transformations!\n",
    "preprocessor = ColumnTransformer(\n",
    "    [\n",
    "        (\"OneHotEncoder\", oh_transformer, cat_features),         # Convert Categorical Features into One Hot Encoding\n",
    "         (\"StandardScaler\", numeric_transformer, num_features),  # Scaling the Data between 0 and 1     \n",
    "    ]\n",
    ")"
   ]
  },
  {
   "cell_type": "code",
   "execution_count": 83,
   "metadata": {},
   "outputs": [],
   "source": [
    "# Apply the transformation using the preprocessor pipeline we created above\n",
    "X = preprocessor.fit_transform(X)"
   ]
  },
  {
   "cell_type": "code",
   "execution_count": 84,
   "metadata": {},
   "outputs": [
    {
     "data": {
      "text/plain": [
       "array([[ 1.        ,  0.        ,  0.        , ...,  1.        ,\n",
       "         0.19399858,  0.39149181],\n",
       "       [ 1.        ,  0.        ,  0.        , ...,  0.        ,\n",
       "         1.42747598,  1.31326868],\n",
       "       [ 1.        ,  0.        ,  0.        , ...,  1.        ,\n",
       "         1.77010859,  1.64247471],\n",
       "       ...,\n",
       "       [ 1.        ,  0.        ,  0.        , ...,  0.        ,\n",
       "         0.12547206, -0.20107904],\n",
       "       [ 1.        ,  0.        ,  0.        , ...,  0.        ,\n",
       "         0.60515772,  0.58901542],\n",
       "       [ 1.        ,  0.        ,  0.        , ...,  1.        ,\n",
       "         1.15336989,  1.18158627]])"
      ]
     },
     "execution_count": 84,
     "metadata": {},
     "output_type": "execute_result"
    }
   ],
   "source": [
    "# Check how it looks like\n",
    "X"
   ]
  },
  {
   "cell_type": "code",
   "execution_count": 85,
   "metadata": {},
   "outputs": [
    {
     "data": {
      "text/plain": [
       "(1000, 19)"
      ]
     },
     "execution_count": 85,
     "metadata": {},
     "output_type": "execute_result"
    }
   ],
   "source": [
    "# Check the shape!!\n",
    "X.shape"
   ]
  },
  {
   "attachments": {},
   "cell_type": "markdown",
   "metadata": {},
   "source": [
    "### Split the data for Training and Testing"
   ]
  },
  {
   "cell_type": "code",
   "execution_count": 86,
   "metadata": {},
   "outputs": [
    {
     "data": {
      "text/plain": [
       "((800, 19), (200, 19))"
      ]
     },
     "execution_count": 86,
     "metadata": {},
     "output_type": "execute_result"
    }
   ],
   "source": [
    "from sklearn.model_selection import train_test_split\n",
    "X_train, X_test, y_train, y_test = train_test_split(X, y, test_size = 0.2, random_state = 42)\n",
    "X_train.shape, X_test.shape"
   ]
  },
  {
   "attachments": {},
   "cell_type": "markdown",
   "metadata": {},
   "source": [
    "### Create an evaluation function to give all the metrics after model is trained"
   ]
  },
  {
   "cell_type": "code",
   "execution_count": 87,
   "metadata": {},
   "outputs": [],
   "source": [
    "def evaluate_model(true, predicted):\n",
    "    mae = mean_absolute_error(true, predicted)\n",
    "    mse = mean_squared_error(true, predicted)\n",
    "    rmse = np.sqrt(mse)\n",
    "    r2_square = r2_score(true, predicted)\n",
    "    return mae, rmse, r2_square"
   ]
  },
  {
   "attachments": {},
   "cell_type": "markdown",
   "metadata": {},
   "source": [
    "### Building, Creating, Training and Evaluating different Machine Learning Models"
   ]
  },
  {
   "cell_type": "code",
   "execution_count": 88,
   "metadata": {},
   "outputs": [
    {
     "name": "stdout",
     "output_type": "stream",
     "text": [
      "1) MODEL PERFORMANCE : LINER REGRESSION\n",
      "\n",
      "+++ TRAINING SET +++\n",
      "- Root Mean Squared Error : 5.3293\n",
      "- Mean Absolute Error : 4.2715\n",
      "- R2 Score : 0.8740\n",
      "\n",
      "-----------------------------------\n",
      "\n",
      "+++ TESTING SET +++\n",
      "- Root Mean Squared Error : 5.4252\n",
      "- Mean Absolute Error : 4.2222\n",
      "- R2 Score : 0.8790\n",
      "\n",
      "\n",
      "===================================\n",
      "\n",
      "\n",
      "2) MODEL PERFORMANCE : LASSO\n",
      "\n",
      "+++ TRAINING SET +++\n",
      "- Root Mean Squared Error : 6.5938\n",
      "- Mean Absolute Error : 5.2063\n",
      "- R2 Score : 0.8071\n",
      "\n",
      "-----------------------------------\n",
      "\n",
      "+++ TESTING SET +++\n",
      "- Root Mean Squared Error : 6.5197\n",
      "- Mean Absolute Error : 5.1579\n",
      "- R2 Score : 0.8253\n",
      "\n",
      "\n",
      "===================================\n",
      "\n",
      "\n",
      "3) MODEL PERFORMANCE : RIDGE\n",
      "\n",
      "+++ TRAINING SET +++\n",
      "- Root Mean Squared Error : 5.3233\n",
      "- Mean Absolute Error : 4.2650\n",
      "- R2 Score : 0.8743\n",
      "\n",
      "-----------------------------------\n",
      "\n",
      "+++ TESTING SET +++\n",
      "- Root Mean Squared Error : 5.3904\n",
      "- Mean Absolute Error : 4.2111\n",
      "- R2 Score : 0.8806\n",
      "\n",
      "\n",
      "===================================\n",
      "\n",
      "\n",
      "4) MODEL PERFORMANCE : K-NEIGHBORS\n",
      "\n",
      "+++ TRAINING SET +++\n",
      "- Root Mean Squared Error : 5.7079\n",
      "- Mean Absolute Error : 4.5168\n",
      "- R2 Score : 0.8555\n",
      "\n",
      "-----------------------------------\n",
      "\n",
      "+++ TESTING SET +++\n",
      "- Root Mean Squared Error : 7.2530\n",
      "- Mean Absolute Error : 5.6210\n",
      "- R2 Score : 0.7838\n",
      "\n",
      "\n",
      "===================================\n",
      "\n",
      "\n",
      "5) MODEL PERFORMANCE : DECISSION TREE\n",
      "\n",
      "+++ TRAINING SET +++\n",
      "- Root Mean Squared Error : 0.2795\n",
      "- Mean Absolute Error : 0.0187\n",
      "- R2 Score : 0.9997\n",
      "\n",
      "-----------------------------------\n",
      "\n",
      "+++ TESTING SET +++\n",
      "- Root Mean Squared Error : 7.8987\n",
      "- Mean Absolute Error : 6.2400\n",
      "- R2 Score : 0.7436\n",
      "\n",
      "\n",
      "===================================\n",
      "\n",
      "\n",
      "6) MODEL PERFORMANCE : XGBREGRESSOR\n",
      "\n",
      "+++ TRAINING SET +++\n",
      "- Root Mean Squared Error : 0.9087\n",
      "- Mean Absolute Error : 0.6148\n",
      "- R2 Score : 0.9963\n",
      "\n",
      "-----------------------------------\n",
      "\n",
      "+++ TESTING SET +++\n",
      "- Root Mean Squared Error : 6.5889\n",
      "- Mean Absolute Error : 5.0844\n",
      "- R2 Score : 0.8216\n",
      "\n",
      "\n",
      "===================================\n",
      "\n",
      "\n",
      "7) MODEL PERFORMANCE : CATBOOSTING REGRESSOR\n",
      "\n",
      "+++ TRAINING SET +++\n",
      "- Root Mean Squared Error : 3.0427\n",
      "- Mean Absolute Error : 2.4054\n",
      "- R2 Score : 0.9589\n",
      "\n",
      "-----------------------------------\n",
      "\n",
      "+++ TESTING SET +++\n",
      "- Root Mean Squared Error : 6.0086\n",
      "- Mean Absolute Error : 4.6125\n",
      "- R2 Score : 0.8516\n",
      "\n",
      "\n",
      "===================================\n",
      "\n",
      "\n",
      "8) MODEL PERFORMANCE : ADABOOST REGRESSOR\n",
      "\n",
      "+++ TRAINING SET +++\n",
      "- Root Mean Squared Error : 5.7714\n",
      "- Mean Absolute Error : 4.7436\n",
      "- R2 Score : 0.8523\n",
      "\n",
      "-----------------------------------\n",
      "\n",
      "+++ TESTING SET +++\n",
      "- Root Mean Squared Error : 6.0891\n",
      "- Mean Absolute Error : 4.7033\n",
      "- R2 Score : 0.8476\n",
      "\n",
      "\n",
      "===================================\n",
      "\n",
      "\n"
     ]
    }
   ],
   "source": [
    "models = {\n",
    "    \"Liner Regression\" : LinearRegression(),\n",
    "    \"Lasso\" : Lasso(),\n",
    "    \"Ridge\" : Ridge(),\n",
    "    \"K-Neighbors\" : KNeighborsRegressor(),\n",
    "    \"Decission Tree\" : DecisionTreeRegressor(),\n",
    "    \"XGBRegressor\" : XGBRegressor(),\n",
    "    \"CatBoosting Regressor\" : CatBoostRegressor(verbose = False),\n",
    "    \"AdaBoost Regressor\" : AdaBoostRegressor()\n",
    "}\n",
    "\n",
    "model_list = []\n",
    "r2_list = []\n",
    "\n",
    "for i in range(len(list(models))):\n",
    "    \n",
    "    # Build and Train Models\n",
    "    model = list(models.values())[i]\n",
    "    model.fit(X_train, y_train)\n",
    "\n",
    "    # Make Predictions\n",
    "    y_train_pred = model.predict(X_train)\n",
    "    y_test_pred = model.predict(X_test)\n",
    "\n",
    "    # Evaluate the training of the Models\n",
    "    model_train_mae, model_train_rmse, model_train_r2 = evaluate_model(y_train, y_train_pred)\n",
    "    model_test_mae, model_test_rmse, model_test_r2 = evaluate_model(y_test, y_test_pred)\n",
    "\n",
    "    # Append and Print the Outputs\n",
    "    model_list.append(list(models.keys())[i])\n",
    "\n",
    "    print(f\"{i+1}) MODEL PERFORMANCE : {list(models.keys())[i].upper()}\\n\")\n",
    "\n",
    "\n",
    "    print(\"+++ TRAINING SET +++\")\n",
    "    print(\"- Root Mean Squared Error : {:.4f}\".format(model_train_rmse))\n",
    "    print(\"- Mean Absolute Error : {:.4f}\".format(model_train_mae))\n",
    "    print(\"- R2 Score : {:.4f}\".format(model_train_r2))\n",
    "\n",
    "    print(\"\\n-----------------------------------\\n\")\n",
    "\n",
    "    print(\"+++ TESTING SET +++\")\n",
    "    print(\"- Root Mean Squared Error : {:.4f}\".format(model_test_rmse))\n",
    "    print(\"- Mean Absolute Error : {:.4f}\".format(model_test_mae))\n",
    "    print(\"- R2 Score : {:.4f}\".format(model_test_r2))\n",
    "\n",
    "    r2_list.append(model_test_r2)\n",
    "\n",
    "    print('\\n')\n",
    "    print(\"=\"*35)\n",
    "    print(\"\\n\")    "
   ]
  },
  {
   "attachments": {},
   "cell_type": "markdown",
   "metadata": {},
   "source": [
    "### Create a DataFrame to store the R2 Score for each Model in the Descending Order"
   ]
  },
  {
   "cell_type": "code",
   "execution_count": 89,
   "metadata": {},
   "outputs": [
    {
     "data": {
      "text/html": [
       "<div>\n",
       "<style scoped>\n",
       "    .dataframe tbody tr th:only-of-type {\n",
       "        vertical-align: middle;\n",
       "    }\n",
       "\n",
       "    .dataframe tbody tr th {\n",
       "        vertical-align: top;\n",
       "    }\n",
       "\n",
       "    .dataframe thead th {\n",
       "        text-align: right;\n",
       "    }\n",
       "</style>\n",
       "<table border=\"1\" class=\"dataframe\">\n",
       "  <thead>\n",
       "    <tr style=\"text-align: right;\">\n",
       "      <th></th>\n",
       "      <th>Model</th>\n",
       "      <th>R2 Score</th>\n",
       "    </tr>\n",
       "  </thead>\n",
       "  <tbody>\n",
       "    <tr>\n",
       "      <th>1</th>\n",
       "      <td>Ridge</td>\n",
       "      <td>0.880593</td>\n",
       "    </tr>\n",
       "    <tr>\n",
       "      <th>2</th>\n",
       "      <td>Liner Regression</td>\n",
       "      <td>0.879046</td>\n",
       "    </tr>\n",
       "    <tr>\n",
       "      <th>3</th>\n",
       "      <td>CatBoosting Regressor</td>\n",
       "      <td>0.851632</td>\n",
       "    </tr>\n",
       "    <tr>\n",
       "      <th>4</th>\n",
       "      <td>AdaBoost Regressor</td>\n",
       "      <td>0.847632</td>\n",
       "    </tr>\n",
       "    <tr>\n",
       "      <th>5</th>\n",
       "      <td>Lasso</td>\n",
       "      <td>0.825320</td>\n",
       "    </tr>\n",
       "    <tr>\n",
       "      <th>6</th>\n",
       "      <td>XGBRegressor</td>\n",
       "      <td>0.821589</td>\n",
       "    </tr>\n",
       "    <tr>\n",
       "      <th>7</th>\n",
       "      <td>K-Neighbors</td>\n",
       "      <td>0.783813</td>\n",
       "    </tr>\n",
       "    <tr>\n",
       "      <th>8</th>\n",
       "      <td>Decission Tree</td>\n",
       "      <td>0.743608</td>\n",
       "    </tr>\n",
       "  </tbody>\n",
       "</table>\n",
       "</div>"
      ],
      "text/plain": [
       "                   Model  R2 Score\n",
       "1                  Ridge  0.880593\n",
       "2       Liner Regression  0.879046\n",
       "3  CatBoosting Regressor  0.851632\n",
       "4     AdaBoost Regressor  0.847632\n",
       "5                  Lasso  0.825320\n",
       "6           XGBRegressor  0.821589\n",
       "7            K-Neighbors  0.783813\n",
       "8         Decission Tree  0.743608"
      ]
     },
     "execution_count": 89,
     "metadata": {},
     "output_type": "execute_result"
    }
   ],
   "source": [
    "r2_results = pd.DataFrame(list(zip(model_list, r2_list)), columns = [\"Model\", \"R2 Score\"]).sort_values(by = [\"R2 Score\"], ascending = False)\n",
    "r2_results.reset_index(inplace = True, drop = True)\n",
    "r2_results.index +=1\n",
    "r2_results"
   ]
  },
  {
   "attachments": {},
   "cell_type": "markdown",
   "metadata": {},
   "source": [
    "### Linear Regression "
   ]
  },
  {
   "cell_type": "code",
   "execution_count": 93,
   "metadata": {},
   "outputs": [
    {
     "name": "stdout",
     "output_type": "stream",
     "text": [
      "Linear Regression is 87.90% accurate\n"
     ]
    }
   ],
   "source": [
    "lin_model = LinearRegression(fit_intercept = True)\n",
    "lin_model = lin_model.fit(X_train, y_train)\n",
    "y_pred = lin_model.predict(X_test).astype('float32')\n",
    "score = r2_score(y_test, y_pred)*100\n",
    "print('Linear Regression is {:.2f}% accurate'.format(score))"
   ]
  },
  {
   "attachments": {},
   "cell_type": "markdown",
   "metadata": {},
   "source": [
    "### Plotting y_pred and y_test "
   ]
  },
  {
   "cell_type": "code",
   "execution_count": 102,
   "metadata": {},
   "outputs": [
    {
     "data": {
      "image/png": "[encoded data removed]",
      "text/plain": [
       "<Figure size 1000x800 with 2 Axes>"
      ]
     },
     "metadata": {},
     "output_type": "display_data"
    }
   ],
   "source": [
    "plt.figure(figsize=(10, 8))\n",
    "plt.subplot(211)\n",
    "plt.scatter(y_test, y_pred)\n",
    "plt.ylabel('Predicted')\n",
    "plt.subplot(212)\n",
    "sns.regplot(x = y_test, y = y_pred, ci = None, color = 'red')\n",
    "plt.xlabel('Actual')\n",
    "plt.ylabel('Predicted')\n",
    "plt.show()"
   ]
  },
  {
   "attachments": {},
   "cell_type": "markdown",
   "metadata": {},
   "source": [
    "### Difference between Actual and Predicted"
   ]
  },
  {
   "cell_type": "code",
   "execution_count": 106,
   "metadata": {},
   "outputs": [
    {
     "data": {
      "text/html": [
       "<div>\n",
       "<style scoped>\n",
       "    .dataframe tbody tr th:only-of-type {\n",
       "        vertical-align: middle;\n",
       "    }\n",
       "\n",
       "    .dataframe tbody tr th {\n",
       "        vertical-align: top;\n",
       "    }\n",
       "\n",
       "    .dataframe thead th {\n",
       "        text-align: right;\n",
       "    }\n",
       "</style>\n",
       "<table border=\"1\" class=\"dataframe\">\n",
       "  <thead>\n",
       "    <tr style=\"text-align: right;\">\n",
       "      <th></th>\n",
       "      <th>Actual Value</th>\n",
       "      <th>Predicted Value</th>\n",
       "      <th>Difference</th>\n",
       "    </tr>\n",
       "  </thead>\n",
       "  <tbody>\n",
       "    <tr>\n",
       "      <th>590</th>\n",
       "      <td>58</td>\n",
       "      <td>58.0625</td>\n",
       "      <td>0.0625</td>\n",
       "    </tr>\n",
       "    <tr>\n",
       "      <th>260</th>\n",
       "      <td>64</td>\n",
       "      <td>63.9375</td>\n",
       "      <td>0.0625</td>\n",
       "    </tr>\n",
       "    <tr>\n",
       "      <th>370</th>\n",
       "      <td>84</td>\n",
       "      <td>84.0625</td>\n",
       "      <td>0.0625</td>\n",
       "    </tr>\n",
       "    <tr>\n",
       "      <th>86</th>\n",
       "      <td>76</td>\n",
       "      <td>75.9375</td>\n",
       "      <td>0.0625</td>\n",
       "    </tr>\n",
       "    <tr>\n",
       "      <th>259</th>\n",
       "      <td>65</td>\n",
       "      <td>65.1250</td>\n",
       "      <td>0.1250</td>\n",
       "    </tr>\n",
       "    <tr>\n",
       "      <th>...</th>\n",
       "      <td>...</td>\n",
       "      <td>...</td>\n",
       "      <td>...</td>\n",
       "    </tr>\n",
       "    <tr>\n",
       "      <th>371</th>\n",
       "      <td>45</td>\n",
       "      <td>57.6875</td>\n",
       "      <td>12.6875</td>\n",
       "    </tr>\n",
       "    <tr>\n",
       "      <th>859</th>\n",
       "      <td>87</td>\n",
       "      <td>73.9375</td>\n",
       "      <td>13.0625</td>\n",
       "    </tr>\n",
       "    <tr>\n",
       "      <th>265</th>\n",
       "      <td>59</td>\n",
       "      <td>44.8125</td>\n",
       "      <td>14.1875</td>\n",
       "    </tr>\n",
       "    <tr>\n",
       "      <th>521</th>\n",
       "      <td>91</td>\n",
       "      <td>76.4375</td>\n",
       "      <td>14.5625</td>\n",
       "    </tr>\n",
       "    <tr>\n",
       "      <th>158</th>\n",
       "      <td>61</td>\n",
       "      <td>76.8125</td>\n",
       "      <td>15.8125</td>\n",
       "    </tr>\n",
       "  </tbody>\n",
       "</table>\n",
       "<p>200 rows × 3 columns</p>\n",
       "</div>"
      ],
      "text/plain": [
       "     Actual Value  Predicted Value  Difference\n",
       "590            58          58.0625      0.0625\n",
       "260            64          63.9375      0.0625\n",
       "370            84          84.0625      0.0625\n",
       "86             76          75.9375      0.0625\n",
       "259            65          65.1250      0.1250\n",
       "..            ...              ...         ...\n",
       "371            45          57.6875     12.6875\n",
       "859            87          73.9375     13.0625\n",
       "265            59          44.8125     14.1875\n",
       "521            91          76.4375     14.5625\n",
       "158            61          76.8125     15.8125\n",
       "\n",
       "[200 rows x 3 columns]"
      ]
     },
     "execution_count": 106,
     "metadata": {},
     "output_type": "execute_result"
    }
   ],
   "source": [
    "pred_df = pd.DataFrame({'Actual Value' : y_test, \n",
    "                        'Predicted Value' : y_pred, \n",
    "                        'Difference' : np.abs(y_test - y_pred)}).sort_values(by = 'Difference', ascending = True)\n",
    "pred_df"
   ]
  }
 ],
 "metadata": {
  "kernelspec": {
   "display_name": "Python 3",
   "language": "python",
   "name": "python3"
  },
  "language_info": {
   "codemirror_mode": {
    "name": "ipython",
    "version": 3
   },
   "file_extension": ".py",
   "mimetype": "text/x-python",
   "name": "python",
   "nbconvert_exporter": "python",
   "pygments_lexer": "ipython3",
   "version": "3.8.16"
  },
  "orig_nbformat": 4
 },
 "nbformat": 4,
 "nbformat_minor": 2
}
